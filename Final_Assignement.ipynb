{
  "metadata": {
    "kernelspec": {
      "name": "python",
      "display_name": "Pyolite",
      "language": "python"
    },
    "language_info": {
      "codemirror_mode": {
        "name": "python",
        "version": 3
      },
      "file_extension": ".py",
      "mimetype": "text/x-python",
      "name": "python",
      "nbconvert_exporter": "python",
      "pygments_lexer": "ipython3",
      "version": "3.8"
    }
  },
  "nbformat_minor": 4,
  "nbformat": 4,
  "cells": [
    {
      "cell_type": "markdown",
      "source": "<center>\n    <img src=\"https://cf-courses-data.s3.us.cloud-object-storage.appdomain.cloud/IBMDeveloperSkillsNetwork-DS0105EN-SkillsNetwork/labs/Module2/images/SN_web_lightmode.png\" width=\"300\" alt=\"cognitiveclass.ai logo\"  />\n</center>\n",
      "metadata": {}
    },
    {
      "cell_type": "markdown",
      "source": "# My Jupyter Notebook on IBM Watson Studio",
      "metadata": {}
    },
    {
      "cell_type": "markdown",
      "source": "**Oussama**\nFuture Computer Science graduate ",
      "metadata": {}
    },
    {
      "cell_type": "markdown",
      "source": "*I am interested in Data Science because I am curious about the way we can explore multiple Data to process and optimize the decision making at larger scale*",
      "metadata": {}
    },
    {
      "cell_type": "markdown",
      "source": "### This code return the addition of two numbers  ",
      "metadata": {}
    },
    {
      "cell_type": "code",
      "source": "def addition(a,b):\n\n    return a+b \n",
      "metadata": {
        "trusted": true
      },
      "execution_count": 9,
      "outputs": []
    },
    {
      "cell_type": "code",
      "source": "addition(1,1)",
      "metadata": {
        "trusted": true
      },
      "execution_count": 8,
      "outputs": [
        {
          "execution_count": 8,
          "output_type": "execute_result",
          "data": {
            "text/plain": "2"
          },
          "metadata": {}
        }
      ]
    },
    {
      "cell_type": "markdown",
      "source": "1. This code helps to addition two numbers\n2. The code returns the result of addition\n3. To execute the code, please enter addition(a,b) given a,b two number variables\n\nThe following table display the results of the function addition : \n    \n| a | b | result |\n| --- | --- | --- |\n| 1 | 1 | 2|\n| 2 | 1 | 3|\n| 3 | 1 | 4|\n\n***",
      "metadata": {}
    }
  ]
}